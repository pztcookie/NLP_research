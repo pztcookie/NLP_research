{
 "metadata": {
  "language_info": {
   "codemirror_mode": {
    "name": "ipython",
    "version": 3
   },
   "file_extension": ".py",
   "mimetype": "text/x-python",
   "name": "python",
   "nbconvert_exporter": "python",
   "pygments_lexer": "ipython3",
   "version": "3.8.10"
  },
  "orig_nbformat": 2,
  "kernelspec": {
   "name": "python3",
   "display_name": "Python 3.8.10 64-bit ('nlp': conda)"
  },
  "interpreter": {
   "hash": "5db0bf8e65298cb01341d1d0401e9d0f1ebbad7939f704a64363986abd13b2a8"
  }
 },
 "nbformat": 4,
 "nbformat_minor": 2,
 "cells": [
  {
   "cell_type": "code",
   "execution_count": 2,
   "metadata": {},
   "outputs": [],
   "source": [
    "import sys\n",
    "import os\n",
    "import math\n",
    "import warnings\n",
    "import pandas as pd \n",
    "import numpy as np\n",
    "import matplotlib as plt\n",
    "import seaborn as sns \n"
   ]
  },
  {
   "cell_type": "code",
   "execution_count": 3,
   "metadata": {},
   "outputs": [],
   "source": [
    "def barcount_plot(labels, title):\n",
    "    ax = labels.value_counts().plot(kind='bar',\n",
    "                                        figsize=(14,8))\n",
    "    ax.set_xlabel(\"Labels\")\n",
    "    ax.set_ylabel(\"Frequency\")"
   ]
  },
  {
   "cell_type": "code",
   "execution_count": 10,
   "metadata": {},
   "outputs": [
    {
     "output_type": "execute_result",
     "data": {
      "text/plain": [
       "                                                   Title  Citaions  \\\n",
       "0      Surveylance: Automatically Detecting Online Su...         0   \n",
       "1      EyeTell: Video-Assisted Touchscreen Keystroke ...         2   \n",
       "2                            Understanding Linux Malware         4   \n",
       "3                          SoK: Keylogging Side Channels         1   \n",
       "4      FuturesMEX: Secure, Distributed Futures Market...         2   \n",
       "...                                                  ...       ...   \n",
       "48606  Evaluation of silicon-on-sapphire enhancement ...         3   \n",
       "48607      Study of quaternary logic versus binary logic         3   \n",
       "48608            Design of fail-safe CMOS logic circuits         0   \n",
       "48609  Integrated approach to area-time tradeoff for ...         0   \n",
       "48610  HADES-high-level architecture development and ...         8   \n",
       "\n",
       "                                     Authors  \\\n",
       "0            A Kharraz, W Robertson, E Kirda   \n",
       "1            Y Chen, T Li, R Zhang, Y Zhanga   \n",
       "2        E Cozzi, M Graziano, Y Fratantonioa   \n",
       "3                                   J Monaco   \n",
       "4      F Massacci, CN Ngo, J Nie, D Venturia   \n",
       "...                                      ...   \n",
       "48606                   IE Talkhan, HS Abdel   \n",
       "48607                      AN Gupte, AK Goel   \n",
       "48608                    V Bobin, S Whitaker   \n",
       "48609         A Basu, TC Wilson, DK Banerjia   \n",
       "48610        P Poechmueller, M Held, N Wehna   \n",
       "\n",
       "                                              Conference  Year  \\\n",
       "0               39th S&P 2018:\\r\\nSan Francisco, CA, USA  2018   \n",
       "1               39th S&P 2018:\\r\\nSan Francisco, CA, USA  2018   \n",
       "2               39th S&P 2018:\\r\\nSan Francisco, CA, USA  2018   \n",
       "3               39th S&P 2018:\\r\\nSan Francisco, CA, USA  2018   \n",
       "4               39th S&P 2018:\\r\\nSan Francisco, CA, USA  2018   \n",
       "...                                                  ...   ...   \n",
       "48606  1. Great Lakes Symposium on VLSI 1991:\\r\\nKala...  1991   \n",
       "48607  1. Great Lakes Symposium on VLSI 1991:\\r\\nKala...  1991   \n",
       "48608  1. Great Lakes Symposium on VLSI 1991:\\r\\nKala...  1991   \n",
       "48609  1. Great Lakes Symposium on VLSI 1991:\\r\\nKala...  1991   \n",
       "48610  1. Great Lakes Symposium on VLSI 1991:\\r\\nKala...  1991   \n",
       "\n",
       "                         Conference Name  \\\n",
       "0                                    S&P   \n",
       "1                                    S&P   \n",
       "2                                    S&P   \n",
       "3                                    S&P   \n",
       "4                                    S&P   \n",
       "...                                  ...   \n",
       "48606  ACM Great Lakes Symposium on VLSI   \n",
       "48607  ACM Great Lakes Symposium on VLSI   \n",
       "48608  ACM Great Lakes Symposium on VLSI   \n",
       "48609  ACM Great Lakes Symposium on VLSI   \n",
       "48610  ACM Great Lakes Symposium on VLSI   \n",
       "\n",
       "                                                Abstract  \n",
       "0      Online surveys are a popular mechanism for per...  \n",
       "1      Keystroke inference attacks pose an increasing...  \n",
       "2      For the past two decades, the security communi...  \n",
       "3      The first keylogging side channel attack was d...  \n",
       "4      In a Futures-Exchange, such as the Chicago Mer...  \n",
       "...                                                  ...  \n",
       "48606  Complete theoretical analysis of SOS n-channel...  \n",
       "48607  The authors deal with the comparison of quater...  \n",
       "48608  Design techniques to make CMOS logic circuits ...  \n",
       "48609  The authors address the issue of area-time tra...  \n",
       "48610  The authors propose a new approach to high lev...  \n",
       "\n",
       "[48611 rows x 7 columns]"
      ],
      "text/html": "<div>\n<style scoped>\n    .dataframe tbody tr th:only-of-type {\n        vertical-align: middle;\n    }\n\n    .dataframe tbody tr th {\n        vertical-align: top;\n    }\n\n    .dataframe thead th {\n        text-align: right;\n    }\n</style>\n<table border=\"1\" class=\"dataframe\">\n  <thead>\n    <tr style=\"text-align: right;\">\n      <th></th>\n      <th>Title</th>\n      <th>Citaions</th>\n      <th>Authors</th>\n      <th>Conference</th>\n      <th>Year</th>\n      <th>Conference Name</th>\n      <th>Abstract</th>\n    </tr>\n  </thead>\n  <tbody>\n    <tr>\n      <th>0</th>\n      <td>Surveylance: Automatically Detecting Online Su...</td>\n      <td>0</td>\n      <td>A Kharraz, W Robertson, E Kirda</td>\n      <td>39th S&amp;P 2018:\\r\\nSan Francisco, CA, USA</td>\n      <td>2018</td>\n      <td>S&amp;P</td>\n      <td>Online surveys are a popular mechanism for per...</td>\n    </tr>\n    <tr>\n      <th>1</th>\n      <td>EyeTell: Video-Assisted Touchscreen Keystroke ...</td>\n      <td>2</td>\n      <td>Y Chen, T Li, R Zhang, Y Zhanga</td>\n      <td>39th S&amp;P 2018:\\r\\nSan Francisco, CA, USA</td>\n      <td>2018</td>\n      <td>S&amp;P</td>\n      <td>Keystroke inference attacks pose an increasing...</td>\n    </tr>\n    <tr>\n      <th>2</th>\n      <td>Understanding Linux Malware</td>\n      <td>4</td>\n      <td>E Cozzi, M Graziano, Y Fratantonioa</td>\n      <td>39th S&amp;P 2018:\\r\\nSan Francisco, CA, USA</td>\n      <td>2018</td>\n      <td>S&amp;P</td>\n      <td>For the past two decades, the security communi...</td>\n    </tr>\n    <tr>\n      <th>3</th>\n      <td>SoK: Keylogging Side Channels</td>\n      <td>1</td>\n      <td>J Monaco</td>\n      <td>39th S&amp;P 2018:\\r\\nSan Francisco, CA, USA</td>\n      <td>2018</td>\n      <td>S&amp;P</td>\n      <td>The first keylogging side channel attack was d...</td>\n    </tr>\n    <tr>\n      <th>4</th>\n      <td>FuturesMEX: Secure, Distributed Futures Market...</td>\n      <td>2</td>\n      <td>F Massacci, CN Ngo, J Nie, D Venturia</td>\n      <td>39th S&amp;P 2018:\\r\\nSan Francisco, CA, USA</td>\n      <td>2018</td>\n      <td>S&amp;P</td>\n      <td>In a Futures-Exchange, such as the Chicago Mer...</td>\n    </tr>\n    <tr>\n      <th>...</th>\n      <td>...</td>\n      <td>...</td>\n      <td>...</td>\n      <td>...</td>\n      <td>...</td>\n      <td>...</td>\n      <td>...</td>\n    </tr>\n    <tr>\n      <th>48606</th>\n      <td>Evaluation of silicon-on-sapphire enhancement ...</td>\n      <td>3</td>\n      <td>IE Talkhan, HS Abdel</td>\n      <td>1. Great Lakes Symposium on VLSI 1991:\\r\\nKala...</td>\n      <td>1991</td>\n      <td>ACM Great Lakes Symposium on VLSI</td>\n      <td>Complete theoretical analysis of SOS n-channel...</td>\n    </tr>\n    <tr>\n      <th>48607</th>\n      <td>Study of quaternary logic versus binary logic</td>\n      <td>3</td>\n      <td>AN Gupte, AK Goel</td>\n      <td>1. Great Lakes Symposium on VLSI 1991:\\r\\nKala...</td>\n      <td>1991</td>\n      <td>ACM Great Lakes Symposium on VLSI</td>\n      <td>The authors deal with the comparison of quater...</td>\n    </tr>\n    <tr>\n      <th>48608</th>\n      <td>Design of fail-safe CMOS logic circuits</td>\n      <td>0</td>\n      <td>V Bobin, S Whitaker</td>\n      <td>1. Great Lakes Symposium on VLSI 1991:\\r\\nKala...</td>\n      <td>1991</td>\n      <td>ACM Great Lakes Symposium on VLSI</td>\n      <td>Design techniques to make CMOS logic circuits ...</td>\n    </tr>\n    <tr>\n      <th>48609</th>\n      <td>Integrated approach to area-time tradeoff for ...</td>\n      <td>0</td>\n      <td>A Basu, TC Wilson, DK Banerjia</td>\n      <td>1. Great Lakes Symposium on VLSI 1991:\\r\\nKala...</td>\n      <td>1991</td>\n      <td>ACM Great Lakes Symposium on VLSI</td>\n      <td>The authors address the issue of area-time tra...</td>\n    </tr>\n    <tr>\n      <th>48610</th>\n      <td>HADES-high-level architecture development and ...</td>\n      <td>8</td>\n      <td>P Poechmueller, M Held, N Wehna</td>\n      <td>1. Great Lakes Symposium on VLSI 1991:\\r\\nKala...</td>\n      <td>1991</td>\n      <td>ACM Great Lakes Symposium on VLSI</td>\n      <td>The authors propose a new approach to high lev...</td>\n    </tr>\n  </tbody>\n</table>\n<p>48611 rows × 7 columns</p>\n</div>"
     },
     "metadata": {},
     "execution_count": 10
    }
   ],
   "source": [
    "df_orig = pd.read_csv(r'C:\\Users\\patri\\Documents\\GitHub\\nlp-research\\csv\\google_scholar.csv')\n",
    "\n",
    "df = df_orig\n",
    "df.drop_duplicates(subset='Title', keep='first', inplace=True)\n",
    "df.reset_index(drop=True, inplace=True)\n",
    "df.drop('Index', axis=1, inplace=True)\n",
    "df"
   ]
  },
  {
   "cell_type": "code",
   "execution_count": 12,
   "metadata": {},
   "outputs": [],
   "source": [
    "df['Corpus'] = df[['Title', 'Abstract']].apply(lambda x: '. '.join(x), axis = 1)\n"
   ]
  },
  {
   "cell_type": "code",
   "execution_count": 13,
   "metadata": {},
   "outputs": [],
   "source": [
    "data = [df['Conference'], df['Year'], df['Conference Name']]\n",
    "headers = ['Conference', 'Year', 'Conference Name']\n",
    "df_conf = pd.concat(data, axis=1, keys=headers)"
   ]
  },
  {
   "cell_type": "code",
   "execution_count": 16,
   "metadata": {},
   "outputs": [
    {
     "output_type": "execute_result",
     "data": {
      "text/plain": [
       "array(['S&P', 'ICML', 'CVPR', 'ICCV', 'ISCA', 'MICRO', 'ISVLSI', 'IOLTS',\n",
       "       'TrustCom', 'ISQED', 'FCCM', 'FPGA', 'FPL', 'CGO', 'ESTImedia',\n",
       "       'LCTES', 'IGSC', 'MASCOTS', 'HPDC', 'BigData Conference', 'FPT',\n",
       "       'HPCS', 'ICPP', 'ISCAS', 'VLSI Design', 'VLSI-SoC', 'DSD',\n",
       "       'PATMOS', 'SAMOS', 'VLSI Circuits', 'COOL CHIPS', 'COOL Chips',\n",
       "       'ISSCC', 'RAID', 'ACSAC', 'ESORICS', 'DSN', 'ICCD', 'DAC', 'DATE',\n",
       "       'HPCA', 'CASES', 'CODES', 'HO', 'ISPASS', 'IISWC', 'ICCAD',\n",
       "       'ASP-DAC', 'CCGRID', 'SoCC', 'IPDPS', 'IPPS', 'SC', 'ISLPED',\n",
       "       'CLUSTER', 'ACM Great Lakes Symposium on VLSI'], dtype=object)"
      ]
     },
     "metadata": {},
     "execution_count": 16
    }
   ],
   "source": [
    "df_conf['Conference Name'].unique()"
   ]
  },
  {
   "cell_type": "code",
   "execution_count": null,
   "metadata": {},
   "outputs": [],
   "source": []
  }
 ]
}